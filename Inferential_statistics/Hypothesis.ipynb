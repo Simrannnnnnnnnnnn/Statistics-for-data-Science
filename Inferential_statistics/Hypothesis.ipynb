{
  "nbformat": 4,
  "nbformat_minor": 0,
  "metadata": {
    "colab": {
      "provenance": [],
      "toc_visible": true
    },
    "kernelspec": {
      "name": "python3",
      "display_name": "Python 3"
    },
    "language_info": {
      "name": "python"
    }
  },
  "cells": [
    {
      "cell_type": "code",
      "execution_count": 2,
      "metadata": {
        "colab": {
          "base_uri": "https://localhost:8080/"
        },
        "id": "Ltiu2dDPlJvp",
        "outputId": "9d7ff067-d2d5-4f95-b324-0ce8b6d104a2"
      },
      "outputs": [
        {
          "output_type": "stream",
          "name": "stdout",
          "text": [
            "T-statistic: -3.685024\n",
            "P-value: 0.000505\n",
            "Reject the null hypothesis\n"
          ]
        }
      ],
      "source": [
        "import numpy as np\n",
        "from scipy.stats import ttest_ind\n",
        "\n",
        "group1 = np.random.normal(loc=5.0, scale=1.0, size =30)\n",
        "group2 = np.random.normal(loc =5.5, scale = 1.2 , size = 30)\n",
        "\n",
        "t_stat, p_value = ttest_ind(group1, group2)\n",
        "alpha =0.5\n",
        "print(f\"T-statistic: {t_stat:4f}\")\n",
        "print(f\"P-value: {p_value:4f}\")\n",
        "\n",
        "if p_value < alpha:\n",
        "    print(\"Reject the null hypothesis\")\n",
        "else:\n",
        "    print(\"Fail to reject the null hypothesis\")"
      ]
    },
    {
      "cell_type": "code",
      "source": [
        "from scipy.stats import norm\n",
        "import numpy as np\n",
        "\n",
        "# Sample data\n",
        "sample_mean = 75  # Mean of the sample\n",
        "population_mean = 70  # Mean of the population (null hypothesis)\n",
        "population_std = 10  # Population standard deviation\n",
        "sample_size = 50  # Sample size\n",
        "\n",
        "# Null hypothesis: The sample mean equals the population mean\n",
        "# Alternative hypothesis: The sample mean is different from the population mean\n",
        "\n",
        "# Calculate the Z-statistic\n",
        "z_stat = (sample_mean - population_mean) / (population_std / np.sqrt(sample_size))\n",
        "\n",
        "# Calculate the p-value (two-tailed test)\n",
        "p_value = 2 * (1 - norm.cdf(abs(z_stat)))\n",
        "\n",
        "# Significance level\n",
        "alpha = 0.05\n",
        "\n",
        "# Output results\n",
        "print(f\"Z-statistic: {z_stat:.4f}\")\n",
        "print(f\"P-value: {p_value:.4f}\")\n",
        "\n",
        "if p_value < alpha:\n",
        "    print(\"Reject the null hypothesis: The sample mean is significantly different from the population mean.\")\n",
        "else:\n",
        "    print(\"Fail to reject the null hypothesis: The sample mean is not significantly different from the population mean.\")\n"
      ],
      "metadata": {
        "colab": {
          "base_uri": "https://localhost:8080/"
        },
        "id": "DghrzLjcl2CO",
        "outputId": "946e7403-25c8-4449-93d5-c1308bbdffe5"
      },
      "execution_count": 3,
      "outputs": [
        {
          "output_type": "stream",
          "name": "stdout",
          "text": [
            "Z-statistic: 3.5355\n",
            "P-value: 0.0004\n",
            "Reject the null hypothesis: The sample mean is significantly different from the population mean.\n"
          ]
        }
      ]
    }
  ]
}